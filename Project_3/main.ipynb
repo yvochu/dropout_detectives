{
 "cells": [
  {
   "cell_type": "code",
   "execution_count": 1096,
   "metadata": {},
   "outputs": [],
   "source": [
    "import csv\n",
    "import pandas as pd\n",
    "from pathlib import Path\n",
    "import matplotlib.pyplot as plt\n",
    "import json"
   ]
  },
  {
   "cell_type": "code",
   "execution_count": 1097,
   "metadata": {},
   "outputs": [
    {
     "data": {
      "text/html": [
       "<div>\n",
       "<style scoped>\n",
       "    .dataframe tbody tr th:only-of-type {\n",
       "        vertical-align: middle;\n",
       "    }\n",
       "\n",
       "    .dataframe tbody tr th {\n",
       "        vertical-align: top;\n",
       "    }\n",
       "\n",
       "    .dataframe thead th {\n",
       "        text-align: right;\n",
       "    }\n",
       "</style>\n",
       "<table border=\"1\" class=\"dataframe\">\n",
       "  <thead>\n",
       "    <tr style=\"text-align: right;\">\n",
       "      <th></th>\n",
       "      <th>School</th>\n",
       "      <th>Gender</th>\n",
       "      <th>Age</th>\n",
       "      <th>Address</th>\n",
       "      <th>Family_Size</th>\n",
       "      <th>Parental_Status</th>\n",
       "      <th>Mother_Education</th>\n",
       "      <th>Father_Education</th>\n",
       "      <th>Mother_Job</th>\n",
       "      <th>Father_Job</th>\n",
       "      <th>...</th>\n",
       "      <th>Free_Time</th>\n",
       "      <th>Going_Out</th>\n",
       "      <th>Weekend_Alcohol_Consumption</th>\n",
       "      <th>Weekday_Alcohol_Consumption</th>\n",
       "      <th>Health_Status</th>\n",
       "      <th>Number_of_Absences</th>\n",
       "      <th>Grade_1</th>\n",
       "      <th>Grade_2</th>\n",
       "      <th>Final_Grade</th>\n",
       "      <th>Dropped_Out</th>\n",
       "    </tr>\n",
       "  </thead>\n",
       "  <tbody>\n",
       "    <tr>\n",
       "      <th>0</th>\n",
       "      <td>GP</td>\n",
       "      <td>F</td>\n",
       "      <td>18</td>\n",
       "      <td>U</td>\n",
       "      <td>GT3</td>\n",
       "      <td>A</td>\n",
       "      <td>4</td>\n",
       "      <td>4</td>\n",
       "      <td>at_home</td>\n",
       "      <td>teacher</td>\n",
       "      <td>...</td>\n",
       "      <td>3</td>\n",
       "      <td>4</td>\n",
       "      <td>1</td>\n",
       "      <td>1</td>\n",
       "      <td>3</td>\n",
       "      <td>4</td>\n",
       "      <td>0</td>\n",
       "      <td>11</td>\n",
       "      <td>11</td>\n",
       "      <td>False</td>\n",
       "    </tr>\n",
       "    <tr>\n",
       "      <th>1</th>\n",
       "      <td>GP</td>\n",
       "      <td>F</td>\n",
       "      <td>17</td>\n",
       "      <td>U</td>\n",
       "      <td>GT3</td>\n",
       "      <td>T</td>\n",
       "      <td>1</td>\n",
       "      <td>1</td>\n",
       "      <td>at_home</td>\n",
       "      <td>other</td>\n",
       "      <td>...</td>\n",
       "      <td>3</td>\n",
       "      <td>3</td>\n",
       "      <td>1</td>\n",
       "      <td>1</td>\n",
       "      <td>3</td>\n",
       "      <td>2</td>\n",
       "      <td>9</td>\n",
       "      <td>11</td>\n",
       "      <td>11</td>\n",
       "      <td>False</td>\n",
       "    </tr>\n",
       "    <tr>\n",
       "      <th>2</th>\n",
       "      <td>GP</td>\n",
       "      <td>F</td>\n",
       "      <td>15</td>\n",
       "      <td>U</td>\n",
       "      <td>LE3</td>\n",
       "      <td>T</td>\n",
       "      <td>1</td>\n",
       "      <td>1</td>\n",
       "      <td>at_home</td>\n",
       "      <td>other</td>\n",
       "      <td>...</td>\n",
       "      <td>3</td>\n",
       "      <td>2</td>\n",
       "      <td>2</td>\n",
       "      <td>3</td>\n",
       "      <td>3</td>\n",
       "      <td>6</td>\n",
       "      <td>12</td>\n",
       "      <td>13</td>\n",
       "      <td>12</td>\n",
       "      <td>False</td>\n",
       "    </tr>\n",
       "    <tr>\n",
       "      <th>3</th>\n",
       "      <td>GP</td>\n",
       "      <td>F</td>\n",
       "      <td>15</td>\n",
       "      <td>U</td>\n",
       "      <td>GT3</td>\n",
       "      <td>T</td>\n",
       "      <td>4</td>\n",
       "      <td>2</td>\n",
       "      <td>health</td>\n",
       "      <td>services</td>\n",
       "      <td>...</td>\n",
       "      <td>2</td>\n",
       "      <td>2</td>\n",
       "      <td>1</td>\n",
       "      <td>1</td>\n",
       "      <td>5</td>\n",
       "      <td>0</td>\n",
       "      <td>14</td>\n",
       "      <td>14</td>\n",
       "      <td>14</td>\n",
       "      <td>False</td>\n",
       "    </tr>\n",
       "    <tr>\n",
       "      <th>4</th>\n",
       "      <td>GP</td>\n",
       "      <td>F</td>\n",
       "      <td>16</td>\n",
       "      <td>U</td>\n",
       "      <td>GT3</td>\n",
       "      <td>T</td>\n",
       "      <td>3</td>\n",
       "      <td>3</td>\n",
       "      <td>other</td>\n",
       "      <td>other</td>\n",
       "      <td>...</td>\n",
       "      <td>3</td>\n",
       "      <td>2</td>\n",
       "      <td>1</td>\n",
       "      <td>2</td>\n",
       "      <td>5</td>\n",
       "      <td>0</td>\n",
       "      <td>11</td>\n",
       "      <td>13</td>\n",
       "      <td>13</td>\n",
       "      <td>False</td>\n",
       "    </tr>\n",
       "  </tbody>\n",
       "</table>\n",
       "<p>5 rows × 34 columns</p>\n",
       "</div>"
      ],
      "text/plain": [
       "  School Gender  Age Address Family_Size Parental_Status  Mother_Education  \\\n",
       "0     GP      F   18       U         GT3               A                 4   \n",
       "1     GP      F   17       U         GT3               T                 1   \n",
       "2     GP      F   15       U         LE3               T                 1   \n",
       "3     GP      F   15       U         GT3               T                 4   \n",
       "4     GP      F   16       U         GT3               T                 3   \n",
       "\n",
       "   Father_Education Mother_Job Father_Job  ... Free_Time Going_Out  \\\n",
       "0                 4    at_home    teacher  ...         3         4   \n",
       "1                 1    at_home      other  ...         3         3   \n",
       "2                 1    at_home      other  ...         3         2   \n",
       "3                 2     health   services  ...         2         2   \n",
       "4                 3      other      other  ...         3         2   \n",
       "\n",
       "   Weekend_Alcohol_Consumption  Weekday_Alcohol_Consumption  Health_Status  \\\n",
       "0                            1                            1              3   \n",
       "1                            1                            1              3   \n",
       "2                            2                            3              3   \n",
       "3                            1                            1              5   \n",
       "4                            1                            2              5   \n",
       "\n",
       "  Number_of_Absences Grade_1 Grade_2 Final_Grade Dropped_Out  \n",
       "0                  4       0      11          11       False  \n",
       "1                  2       9      11          11       False  \n",
       "2                  6      12      13          12       False  \n",
       "3                  0      14      14          14       False  \n",
       "4                  0      11      13          13       False  \n",
       "\n",
       "[5 rows x 34 columns]"
      ]
     },
     "execution_count": 1097,
     "metadata": {},
     "output_type": "execute_result"
    }
   ],
   "source": [
    "#File to load\n",
    "student_dropout_data = Path(r\"C:\\Users\\jasmi\\OneDrive\\Documents\\Project_3\\Resources\\student dropout.csv\")\n",
    "\n",
    "#Read and store file into Pandas dataframe\n",
    "dropout_df = pd.read_csv(student_dropout_data)\n",
    "dropout_df.head()"
   ]
  },
  {
   "cell_type": "code",
   "execution_count": 1098,
   "metadata": {},
   "outputs": [
    {
     "data": {
      "text/plain": [
       "100"
      ]
     },
     "execution_count": 1098,
     "metadata": {},
     "output_type": "execute_result"
    }
   ],
   "source": [
    "dropout_total = dropout_df[dropout_df['Dropped_Out'] == True]\n",
    "dropouts = len(dropout_total)\n",
    "dropouts"
   ]
  },
  {
   "cell_type": "code",
   "execution_count": 1099,
   "metadata": {},
   "outputs": [
    {
     "data": {
      "text/plain": [
       "80"
      ]
     },
     "execution_count": 1099,
     "metadata": {},
     "output_type": "execute_result"
    }
   ],
   "source": [
    "parents_together = dropout_df[dropout_df['Parental_Status'] == 'A']\n",
    "total_parents_together = len(parents_together)\n",
    "total_parents_together"
   ]
  },
  {
   "cell_type": "code",
   "execution_count": 1100,
   "metadata": {},
   "outputs": [
    {
     "data": {
      "text/plain": [
       "12"
      ]
     },
     "execution_count": 1100,
     "metadata": {},
     "output_type": "execute_result"
    }
   ],
   "source": [
    "parents_together_dropouts = dropout_df[(dropout_df['Parental_Status']== 'A') & (dropout_df['Dropped_Out']== True)]\n",
    "parents_together_dropouts_total = len(parents_together_dropouts)\n",
    "parents_together_dropouts_total"
   ]
  },
  {
   "cell_type": "code",
   "execution_count": 1101,
   "metadata": {},
   "outputs": [
    {
     "data": {
      "text/plain": [
       "569"
      ]
     },
     "execution_count": 1101,
     "metadata": {},
     "output_type": "execute_result"
    }
   ],
   "source": [
    "parents_apart = dropout_df[dropout_df['Parental_Status'] == 'T']\n",
    "total_parents_apart = len(parents_apart)\n",
    "total_parents_apart"
   ]
  },
  {
   "cell_type": "code",
   "execution_count": 1102,
   "metadata": {},
   "outputs": [
    {
     "data": {
      "text/plain": [
       "88"
      ]
     },
     "execution_count": 1102,
     "metadata": {},
     "output_type": "execute_result"
    }
   ],
   "source": [
    "parents_apart_dropouts = dropout_df[(dropout_df['Parental_Status'] == 'T') & (dropout_df['Dropped_Out'] == True)]\n",
    "parents_apart_dropouts_total= len(parents_apart_dropouts)\n",
    "parents_apart_dropouts_total"
   ]
  },
  {
   "cell_type": "code",
   "execution_count": 1103,
   "metadata": {},
   "outputs": [
    {
     "data": {
      "image/png": "[encoded data removed]",
      "text/plain": [
       "<Figure size 640x480 with 1 Axes>"
      ]
     },
     "metadata": {},
     "output_type": "display_data"
    }
   ],
   "source": [
    "#Parents apart\n",
    "apart_counts = dropout_df.Parental_Status.value_counts()\n",
    "status= ['T: Parents Apart', 'A: Parents Together']\n",
    "colors = ['blue', 'skyblue']\n",
    "explode = (0,0.1)\n",
    "plt.pie(apart_counts.values, labels = apart_counts.index.values, autopct = \"%1.1f%%\" , colors=colors, explode = explode)\n",
    "plt.ylabel(\"Parental Status Count\")\n",
    "plt.legend(labels=status, loc='upper right', fontsize= 'small')\n",
    "plt.show()"
   ]
  },
  {
   "cell_type": "code",
   "execution_count": 1104,
   "metadata": {},
   "outputs": [
    {
     "data": {
      "image/png": "[encoded data removed]",
      "text/plain": [
       "<Figure size 640x480 with 1 Axes>"
      ]
     },
     "metadata": {},
     "output_type": "display_data"
    }
   ],
   "source": [
    "dropout_counts = dropout_df.Dropped_Out.value_counts()\n",
    "dropout = ['Dropped Out: False', 'Dropped Out: True']\n",
    "colors = ['lightskyblue', 'yellowgreen']\n",
    "explode = (0,0.1)\n",
    "plt.pie(dropout_counts.values, labels = dropout_counts.index.values, autopct = \"%1.1f%%\" , colors = colors, explode = explode)\n",
    "plt.ylabel(\"Dropped Out Count\")\n",
    "plt.legend(labels = dropout, loc = 'upper right', fontsize = 'small')\n",
    "plt.show()"
   ]
  },
  {
   "cell_type": "code",
   "execution_count": 1105,
   "metadata": {},
   "outputs": [
    {
     "data": {
      "text/plain": [
       "{'Total Drop Outs': [100],\n",
       " 'Total Parents Together': [80],\n",
       " 'Parents Together Drop Outs': [12],\n",
       " 'Total Parents Apart': [569],\n",
       " 'Parents Apart Drop Outs': [88]}"
      ]
     },
     "execution_count": 1105,
     "metadata": {},
     "output_type": "execute_result"
    }
   ],
   "source": [
    "data= {'Total Drop Outs': [dropouts],\n",
    "    'Total Parents Together': [total_parents_together], \n",
    "       'Parents Together Drop Outs': [parents_together_dropouts_total],\n",
    "       'Total Parents Apart': [total_parents_apart],\n",
    "       'Parents Apart Drop Outs': [parents_apart_dropouts_total]}\n",
    "data"
   ]
  },
  {
   "cell_type": "code",
   "execution_count": 1106,
   "metadata": {},
   "outputs": [
    {
     "data": {
      "image/png": "[encoded data removed]",
      "text/plain": [
       "<Figure size 640x480 with 1 Axes>"
      ]
     },
     "metadata": {},
     "output_type": "display_data"
    }
   ],
   "source": [
    "df = pd.DataFrame(data)\n",
    "df.set_index('Total Drop Outs', inplace = True)\n",
    "df.plot(kind='bar')\n",
    "plt.legend(loc='upper left')\n",
    "plt.title('Parents Together and Drop Outs')\n",
    "plt.xlabel('Parental Status - Together')\n",
    "plt.ylabel('Drop Outs')\n",
    "plt.show()"
   ]
  },
  {
   "cell_type": "code",
   "execution_count": 1107,
   "metadata": {},
   "outputs": [],
   "source": [
    "df = pd.DataFrame(data)\n",
    "data_json = df.to_json(orient = 'records')"
   ]
  },
  {
   "cell_type": "code",
   "execution_count": 1108,
   "metadata": {},
   "outputs": [
    {
     "name": "stdout",
     "output_type": "stream",
     "text": [
      "Successfully connected to MongoDB!\n"
     ]
    }
   ],
   "source": [
    "from pymongo import MongoClient\n",
    " \n",
    "def check_mongodb_connection():\n",
    "    try:\n",
    "        client = MongoClient('mongodb://localhost:27017/', serverSelectionTimeoutMS=5000)\n",
    "        client.server_info()  # Will throw an exception if unable to connect\n",
    "        print(\"Successfully connected to MongoDB!\")\n",
    "        return True\n",
    "    except Exception as e:\n",
    "        print(f\"Failed to connect to MongoDB. Error: {e}\")\n",
    "        return False\n",
    " \n",
    "if __name__ == \"__main__\":\n",
    "    check_mongodb_connection()"
   ]
  },
  {
   "cell_type": "code",
   "execution_count": 1109,
   "metadata": {},
   "outputs": [
    {
     "name": "stdout",
     "output_type": "stream",
     "text": [
      "Inserted 649 documents into MongoDB\n",
      "Total documents in collection: 44132\n"
     ]
    }
   ],
   "source": [
    "import pandas as pd\n",
    "from pymongo import MongoClient\n",
    "import json\n",
    " \n",
    "# Read the CSV file\n",
    "csv_file_path = r'C:\\Users\\jasmi\\OneDrive\\Documents\\Project_3\\Resources\\student dropout.csv'\n",
    "df = pd.read_csv(csv_file_path)\n",
    " \n",
    "# Convert DataFrame to list of dictionaries\n",
    "data = df.to_dict('records')\n",
    " \n",
    "# Connect to MongoDB\n",
    "client = MongoClient('mongodb://localhost:27017/')\n",
    "db = client['student_dropout_db']\n",
    "collection = db['student_data']\n",
    " \n",
    "# Insert data into MongoDB\n",
    "result = collection.insert_many(data)\n",
    " \n",
    "print(f\"Inserted {len(result.inserted_ids)} documents into MongoDB\")\n",
    " \n",
    "# Optional: Verify data insertion\n",
    "print(f\"Total documents in collection: {collection.count_documents({})}\")\n",
    " \n",
    "# Close the MongoDB connection\n",
    "client.close()\n"
   ]
  },
  {
   "cell_type": "code",
   "execution_count": 1110,
   "metadata": {},
   "outputs": [
    {
     "name": "stdout",
     "output_type": "stream",
     "text": [
      "Total number of documents: 44132\n",
      "\n",
      "First document in the collection:\n",
      "{'Address': 'U',\n",
      " 'Age': 18,\n",
      " 'Attended_Nursery': 'yes',\n",
      " 'Dropped_Out': False,\n",
      " 'Extra_Curricular_Activities': 'no',\n",
      " 'Extra_Paid_Class': 'no',\n",
      " 'Family_Relationship': 4,\n",
      " 'Family_Size': 'GT3',\n",
      " 'Family_Support': 'no',\n",
      " 'Father_Education': 4,\n",
      " 'Father_Job': 'teacher',\n",
      " 'Final_Grade': 11,\n",
      " 'Free_Time': 3,\n",
      " 'Gender': 'F',\n",
      " 'Going_Out': 4,\n",
      " 'Grade_1': 0,\n",
      " 'Grade_2': 11,\n",
      " 'Guardian': 'mother',\n",
      " 'Health_Status': 3,\n",
      " 'In_Relationship': 'no',\n",
      " 'Internet_Access': 'no',\n",
      " 'Mother_Education': 4,\n",
      " 'Mother_Job': 'at_home',\n",
      " 'Number_of_Absences': 4,\n",
      " 'Number_of_Failures': 0,\n",
      " 'Parental_Status': 'A',\n",
      " 'Reason_for_Choosing_School': 'course',\n",
      " 'School': 'GP',\n",
      " 'School_Support': 'yes',\n",
      " 'Study_Time': 2,\n",
      " 'Travel_Time': 2,\n",
      " 'Wants_Higher_Education': 'yes',\n",
      " 'Weekday_Alcohol_Consumption': 1,\n",
      " 'Weekend_Alcohol_Consumption': 1,\n",
      " '_id': ObjectId('6715795bed14822e66fa5717')}\n",
      "\n",
      "Sample of 5 documents:\n",
      "{'Address': 'U',\n",
      " 'Age': 18,\n",
      " 'Attended_Nursery': 'yes',\n",
      " 'Dropped_Out': False,\n",
      " 'Extra_Curricular_Activities': 'no',\n",
      " 'Extra_Paid_Class': 'no',\n",
      " 'Family_Relationship': 4,\n",
      " 'Family_Size': 'GT3',\n",
      " 'Family_Support': 'no',\n",
      " 'Father_Education': 4,\n",
      " 'Father_Job': 'teacher',\n",
      " 'Final_Grade': 11,\n",
      " 'Free_Time': 3,\n",
      " 'Gender': 'F',\n",
      " 'Going_Out': 4,\n",
      " 'Grade_1': 0,\n",
      " 'Grade_2': 11,\n",
      " 'Guardian': 'mother',\n",
      " 'Health_Status': 3,\n",
      " 'In_Relationship': 'no',\n",
      " 'Internet_Access': 'no',\n",
      " 'Mother_Education': 4,\n",
      " 'Mother_Job': 'at_home',\n",
      " 'Number_of_Absences': 4,\n",
      " 'Number_of_Failures': 0,\n",
      " 'Parental_Status': 'A',\n",
      " 'Reason_for_Choosing_School': 'course',\n",
      " 'School': 'GP',\n",
      " 'School_Support': 'yes',\n",
      " 'Study_Time': 2,\n",
      " 'Travel_Time': 2,\n",
      " 'Wants_Higher_Education': 'yes',\n",
      " 'Weekday_Alcohol_Consumption': 1,\n",
      " 'Weekend_Alcohol_Consumption': 1,\n",
      " '_id': ObjectId('6715795bed14822e66fa5717')}\n",
      "{'Address': 'U',\n",
      " 'Age': 17,\n",
      " 'Attended_Nursery': 'no',\n",
      " 'Dropped_Out': False,\n",
      " 'Extra_Curricular_Activities': 'no',\n",
      " 'Extra_Paid_Class': 'no',\n",
      " 'Family_Relationship': 5,\n",
      " 'Family_Size': 'GT3',\n",
      " 'Family_Support': 'yes',\n",
      " 'Father_Education': 1,\n",
      " 'Father_Job': 'other',\n",
      " 'Final_Grade': 11,\n",
      " 'Free_Time': 3,\n",
      " 'Gender': 'F',\n",
      " 'Going_Out': 3,\n",
      " 'Grade_1': 9,\n",
      " 'Grade_2': 11,\n",
      " 'Guardian': 'father',\n",
      " 'Health_Status': 3,\n",
      " 'In_Relationship': 'no',\n",
      " 'Internet_Access': 'yes',\n",
      " 'Mother_Education': 1,\n",
      " 'Mother_Job': 'at_home',\n",
      " 'Number_of_Absences': 2,\n",
      " 'Number_of_Failures': 0,\n",
      " 'Parental_Status': 'T',\n",
      " 'Reason_for_Choosing_School': 'course',\n",
      " 'School': 'GP',\n",
      " 'School_Support': 'no',\n",
      " 'Study_Time': 2,\n",
      " 'Travel_Time': 1,\n",
      " 'Wants_Higher_Education': 'yes',\n",
      " 'Weekday_Alcohol_Consumption': 1,\n",
      " 'Weekend_Alcohol_Consumption': 1,\n",
      " '_id': ObjectId('6715795bed14822e66fa5718')}\n",
      "{'Address': 'U',\n",
      " 'Age': 15,\n",
      " 'Attended_Nursery': 'yes',\n",
      " 'Dropped_Out': False,\n",
      " 'Extra_Curricular_Activities': 'no',\n",
      " 'Extra_Paid_Class': 'no',\n",
      " 'Family_Relationship': 4,\n",
      " 'Family_Size': 'LE3',\n",
      " 'Family_Support': 'no',\n",
      " 'Father_Education': 1,\n",
      " 'Father_Job': 'other',\n",
      " 'Final_Grade': 12,\n",
      " 'Free_Time': 3,\n",
      " 'Gender': 'F',\n",
      " 'Going_Out': 2,\n",
      " 'Grade_1': 12,\n",
      " 'Grade_2': 13,\n",
      " 'Guardian': 'mother',\n",
      " 'Health_Status': 3,\n",
      " 'In_Relationship': 'no',\n",
      " 'Internet_Access': 'yes',\n",
      " 'Mother_Education': 1,\n",
      " 'Mother_Job': 'at_home',\n",
      " 'Number_of_Absences': 6,\n",
      " 'Number_of_Failures': 0,\n",
      " 'Parental_Status': 'T',\n",
      " 'Reason_for_Choosing_School': 'other',\n",
      " 'School': 'GP',\n",
      " 'School_Support': 'yes',\n",
      " 'Study_Time': 2,\n",
      " 'Travel_Time': 1,\n",
      " 'Wants_Higher_Education': 'yes',\n",
      " 'Weekday_Alcohol_Consumption': 3,\n",
      " 'Weekend_Alcohol_Consumption': 2,\n",
      " '_id': ObjectId('6715795bed14822e66fa5719')}\n",
      "{'Address': 'U',\n",
      " 'Age': 15,\n",
      " 'Attended_Nursery': 'yes',\n",
      " 'Dropped_Out': False,\n",
      " 'Extra_Curricular_Activities': 'yes',\n",
      " 'Extra_Paid_Class': 'no',\n",
      " 'Family_Relationship': 3,\n",
      " 'Family_Size': 'GT3',\n",
      " 'Family_Support': 'yes',\n",
      " 'Father_Education': 2,\n",
      " 'Father_Job': 'services',\n",
      " 'Final_Grade': 14,\n",
      " 'Free_Time': 2,\n",
      " 'Gender': 'F',\n",
      " 'Going_Out': 2,\n",
      " 'Grade_1': 14,\n",
      " 'Grade_2': 14,\n",
      " 'Guardian': 'mother',\n",
      " 'Health_Status': 5,\n",
      " 'In_Relationship': 'yes',\n",
      " 'Internet_Access': 'yes',\n",
      " 'Mother_Education': 4,\n",
      " 'Mother_Job': 'health',\n",
      " 'Number_of_Absences': 0,\n",
      " 'Number_of_Failures': 0,\n",
      " 'Parental_Status': 'T',\n",
      " 'Reason_for_Choosing_School': 'home',\n",
      " 'School': 'GP',\n",
      " 'School_Support': 'no',\n",
      " 'Study_Time': 3,\n",
      " 'Travel_Time': 1,\n",
      " 'Wants_Higher_Education': 'yes',\n",
      " 'Weekday_Alcohol_Consumption': 1,\n",
      " 'Weekend_Alcohol_Consumption': 1,\n",
      " '_id': ObjectId('6715795bed14822e66fa571a')}\n",
      "{'Address': 'U',\n",
      " 'Age': 16,\n",
      " 'Attended_Nursery': 'yes',\n",
      " 'Dropped_Out': False,\n",
      " 'Extra_Curricular_Activities': 'no',\n",
      " 'Extra_Paid_Class': 'no',\n",
      " 'Family_Relationship': 4,\n",
      " 'Family_Size': 'GT3',\n",
      " 'Family_Support': 'yes',\n",
      " 'Father_Education': 3,\n",
      " 'Father_Job': 'other',\n",
      " 'Final_Grade': 13,\n",
      " 'Free_Time': 3,\n",
      " 'Gender': 'F',\n",
      " 'Going_Out': 2,\n",
      " 'Grade_1': 11,\n",
      " 'Grade_2': 13,\n",
      " 'Guardian': 'father',\n",
      " 'Health_Status': 5,\n",
      " 'In_Relationship': 'no',\n",
      " 'Internet_Access': 'no',\n",
      " 'Mother_Education': 3,\n",
      " 'Mother_Job': 'other',\n",
      " 'Number_of_Absences': 0,\n",
      " 'Number_of_Failures': 0,\n",
      " 'Parental_Status': 'T',\n",
      " 'Reason_for_Choosing_School': 'home',\n",
      " 'School': 'GP',\n",
      " 'School_Support': 'no',\n",
      " 'Study_Time': 2,\n",
      " 'Travel_Time': 1,\n",
      " 'Wants_Higher_Education': 'yes',\n",
      " 'Weekday_Alcohol_Consumption': 2,\n",
      " 'Weekend_Alcohol_Consumption': 1,\n",
      " '_id': ObjectId('6715795bed14822e66fa571b')}\n",
      "\n",
      "Number of students who dropped out:\n",
      "6800\n",
      "\n",
      "Distinct values in 'Parental_Status' field:\n",
      "['A', 'T']\n"
     ]
    }
   ],
   "source": [
    "from pymongo import MongoClient\n",
    "from pprint import pprint\n",
    " \n",
    "def verify_mongodb_data():\n",
    "    # Connect to MongoDB\n",
    "    client = MongoClient('mongodb://localhost:27017/')\n",
    "    db = client['student_dropout_db']\n",
    "    collection = db['student_data']\n",
    " \n",
    "    # 1. Count the number of documents\n",
    "    doc_count = collection.count_documents({})\n",
    "    print(f\"Total number of documents: {doc_count}\")\n",
    " \n",
    "    # 2. View the first document\n",
    "    print(\"\\nFirst document in the collection:\")\n",
    "    pprint(collection.find_one())\n",
    " \n",
    "    # 3. View a sample of documents\n",
    "    print(\"\\nSample of 5 documents:\")\n",
    "    for doc in collection.find().limit(5):\n",
    "        pprint(doc)\n",
    " \n",
    "    # 4. Check for specific data\n",
    "    print(\"\\nNumber of students who dropped out:\")\n",
    "    dropout_count = collection.count_documents({\"Dropped_Out\": True})\n",
    "    print(dropout_count)\n",
    " \n",
    "    # 5. View distinct values in a field\n",
    "    print(\"\\nDistinct values in 'Parental_Status' field:\")\n",
    "    distinct_parental_status = collection.distinct(\"Parental_Status\")\n",
    "    print(distinct_parental_status)\n",
    " \n",
    "    # Close the connection\n",
    "    client.close()\n",
    " \n",
    "if __name__ == \"__main__\":\n",
    "    verify_mongodb_data()"
   ]
  }
 ],
 "metadata": {
  "kernelspec": {
   "display_name": "dev",
   "language": "python",
   "name": "python3"
  },
  "language_info": {
   "codemirror_mode": {
    "name": "ipython",
    "version": 3
   },
   "file_extension": ".py",
   "mimetype": "text/x-python",
   "name": "python",
   "nbconvert_exporter": "python",
   "pygments_lexer": "ipython3",
   "version": "3.10.14"
  }
 },
 "nbformat": 4,
 "nbformat_minor": 2
}
