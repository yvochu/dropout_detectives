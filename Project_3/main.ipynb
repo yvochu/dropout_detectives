{
 "cells": [
  {
   "cell_type": "code",
   "execution_count": 28,
   "metadata": {},
   "outputs": [],
   "source": [
    "import csv\n",
    "import pandas as pd\n",
    "from pathlib import Path\n",
    "import matplotlib.pyplot as plt"
   ]
  },
  {
   "cell_type": "code",
   "execution_count": 29,
   "metadata": {},
   "outputs": [
    {
     "data": {
      "text/html": [
       "<div>\n",
       "<style scoped>\n",
       "    .dataframe tbody tr th:only-of-type {\n",
       "        vertical-align: middle;\n",
       "    }\n",
       "\n",
       "    .dataframe tbody tr th {\n",
       "        vertical-align: top;\n",
       "    }\n",
       "\n",
       "    .dataframe thead th {\n",
       "        text-align: right;\n",
       "    }\n",
       "</style>\n",
       "<table border=\"1\" class=\"dataframe\">\n",
       "  <thead>\n",
       "    <tr style=\"text-align: right;\">\n",
       "      <th></th>\n",
       "      <th>School</th>\n",
       "      <th>Gender</th>\n",
       "      <th>Age</th>\n",
       "      <th>Address</th>\n",
       "      <th>Family_Size</th>\n",
       "      <th>Parental_Status</th>\n",
       "      <th>Mother_Education</th>\n",
       "      <th>Father_Education</th>\n",
       "      <th>Mother_Job</th>\n",
       "      <th>Father_Job</th>\n",
       "      <th>...</th>\n",
       "      <th>Free_Time</th>\n",
       "      <th>Going_Out</th>\n",
       "      <th>Weekend_Alcohol_Consumption</th>\n",
       "      <th>Weekday_Alcohol_Consumption</th>\n",
       "      <th>Health_Status</th>\n",
       "      <th>Number_of_Absences</th>\n",
       "      <th>Grade_1</th>\n",
       "      <th>Grade_2</th>\n",
       "      <th>Final_Grade</th>\n",
       "      <th>Dropped_Out</th>\n",
       "    </tr>\n",
       "  </thead>\n",
       "  <tbody>\n",
       "    <tr>\n",
       "      <th>0</th>\n",
       "      <td>GP</td>\n",
       "      <td>F</td>\n",
       "      <td>18</td>\n",
       "      <td>U</td>\n",
       "      <td>GT3</td>\n",
       "      <td>A</td>\n",
       "      <td>4</td>\n",
       "      <td>4</td>\n",
       "      <td>at_home</td>\n",
       "      <td>teacher</td>\n",
       "      <td>...</td>\n",
       "      <td>3</td>\n",
       "      <td>4</td>\n",
       "      <td>1</td>\n",
       "      <td>1</td>\n",
       "      <td>3</td>\n",
       "      <td>4</td>\n",
       "      <td>0</td>\n",
       "      <td>11</td>\n",
       "      <td>11</td>\n",
       "      <td>False</td>\n",
       "    </tr>\n",
       "    <tr>\n",
       "      <th>1</th>\n",
       "      <td>GP</td>\n",
       "      <td>F</td>\n",
       "      <td>17</td>\n",
       "      <td>U</td>\n",
       "      <td>GT3</td>\n",
       "      <td>T</td>\n",
       "      <td>1</td>\n",
       "      <td>1</td>\n",
       "      <td>at_home</td>\n",
       "      <td>other</td>\n",
       "      <td>...</td>\n",
       "      <td>3</td>\n",
       "      <td>3</td>\n",
       "      <td>1</td>\n",
       "      <td>1</td>\n",
       "      <td>3</td>\n",
       "      <td>2</td>\n",
       "      <td>9</td>\n",
       "      <td>11</td>\n",
       "      <td>11</td>\n",
       "      <td>False</td>\n",
       "    </tr>\n",
       "    <tr>\n",
       "      <th>2</th>\n",
       "      <td>GP</td>\n",
       "      <td>F</td>\n",
       "      <td>15</td>\n",
       "      <td>U</td>\n",
       "      <td>LE3</td>\n",
       "      <td>T</td>\n",
       "      <td>1</td>\n",
       "      <td>1</td>\n",
       "      <td>at_home</td>\n",
       "      <td>other</td>\n",
       "      <td>...</td>\n",
       "      <td>3</td>\n",
       "      <td>2</td>\n",
       "      <td>2</td>\n",
       "      <td>3</td>\n",
       "      <td>3</td>\n",
       "      <td>6</td>\n",
       "      <td>12</td>\n",
       "      <td>13</td>\n",
       "      <td>12</td>\n",
       "      <td>False</td>\n",
       "    </tr>\n",
       "    <tr>\n",
       "      <th>3</th>\n",
       "      <td>GP</td>\n",
       "      <td>F</td>\n",
       "      <td>15</td>\n",
       "      <td>U</td>\n",
       "      <td>GT3</td>\n",
       "      <td>T</td>\n",
       "      <td>4</td>\n",
       "      <td>2</td>\n",
       "      <td>health</td>\n",
       "      <td>services</td>\n",
       "      <td>...</td>\n",
       "      <td>2</td>\n",
       "      <td>2</td>\n",
       "      <td>1</td>\n",
       "      <td>1</td>\n",
       "      <td>5</td>\n",
       "      <td>0</td>\n",
       "      <td>14</td>\n",
       "      <td>14</td>\n",
       "      <td>14</td>\n",
       "      <td>False</td>\n",
       "    </tr>\n",
       "    <tr>\n",
       "      <th>4</th>\n",
       "      <td>GP</td>\n",
       "      <td>F</td>\n",
       "      <td>16</td>\n",
       "      <td>U</td>\n",
       "      <td>GT3</td>\n",
       "      <td>T</td>\n",
       "      <td>3</td>\n",
       "      <td>3</td>\n",
       "      <td>other</td>\n",
       "      <td>other</td>\n",
       "      <td>...</td>\n",
       "      <td>3</td>\n",
       "      <td>2</td>\n",
       "      <td>1</td>\n",
       "      <td>2</td>\n",
       "      <td>5</td>\n",
       "      <td>0</td>\n",
       "      <td>11</td>\n",
       "      <td>13</td>\n",
       "      <td>13</td>\n",
       "      <td>False</td>\n",
       "    </tr>\n",
       "  </tbody>\n",
       "</table>\n",
       "<p>5 rows × 34 columns</p>\n",
       "</div>"
      ],
      "text/plain": [
       "  School Gender  Age Address Family_Size Parental_Status  Mother_Education  \\\n",
       "0     GP      F   18       U         GT3               A                 4   \n",
       "1     GP      F   17       U         GT3               T                 1   \n",
       "2     GP      F   15       U         LE3               T                 1   \n",
       "3     GP      F   15       U         GT3               T                 4   \n",
       "4     GP      F   16       U         GT3               T                 3   \n",
       "\n",
       "   Father_Education Mother_Job Father_Job  ... Free_Time Going_Out  \\\n",
       "0                 4    at_home    teacher  ...         3         4   \n",
       "1                 1    at_home      other  ...         3         3   \n",
       "2                 1    at_home      other  ...         3         2   \n",
       "3                 2     health   services  ...         2         2   \n",
       "4                 3      other      other  ...         3         2   \n",
       "\n",
       "   Weekend_Alcohol_Consumption  Weekday_Alcohol_Consumption  Health_Status  \\\n",
       "0                            1                            1              3   \n",
       "1                            1                            1              3   \n",
       "2                            2                            3              3   \n",
       "3                            1                            1              5   \n",
       "4                            1                            2              5   \n",
       "\n",
       "  Number_of_Absences Grade_1 Grade_2 Final_Grade Dropped_Out  \n",
       "0                  4       0      11          11       False  \n",
       "1                  2       9      11          11       False  \n",
       "2                  6      12      13          12       False  \n",
       "3                  0      14      14          14       False  \n",
       "4                  0      11      13          13       False  \n",
       "\n",
       "[5 rows x 34 columns]"
      ]
     },
     "execution_count": 29,
     "metadata": {},
     "output_type": "execute_result"
    }
   ],
   "source": [
    "#File to load\n",
    "student_dropout_data = Path(r\"C:\\Users\\jasmi\\OneDrive\\Documents\\Project_3\\Resources\\student dropout.csv\")\n",
    "\n",
    "#Read and store file into Pandas dataframe\n",
    "dropout_df = pd.read_csv(student_dropout_data)\n",
    "dropout_df.head()"
   ]
  },
  {
   "cell_type": "code",
   "execution_count": 30,
   "metadata": {},
   "outputs": [
    {
     "data": {
      "text/plain": [
       "80"
      ]
     },
     "execution_count": 30,
     "metadata": {},
     "output_type": "execute_result"
    }
   ],
   "source": [
    "parents_together = dropout_df[dropout_df['Parental_Status'] == 'A']\n",
    "total_parents_together = len(parents_together)\n",
    "total_parents_together"
   ]
  },
  {
   "cell_type": "code",
   "execution_count": 31,
   "metadata": {},
   "outputs": [
    {
     "data": {
      "text/plain": [
       "12"
      ]
     },
     "execution_count": 31,
     "metadata": {},
     "output_type": "execute_result"
    }
   ],
   "source": [
    "parents_together_dropouts = dropout_df[(dropout_df['Parental_Status']== 'A') & (dropout_df['Dropped_Out']== True)]\n",
    "parents_together_dropouts_total = len(parents_together_dropouts)\n",
    "parents_together_dropouts_total"
   ]
  },
  {
   "cell_type": "code",
   "execution_count": 32,
   "metadata": {},
   "outputs": [
    {
     "data": {
      "text/plain": [
       "569"
      ]
     },
     "execution_count": 32,
     "metadata": {},
     "output_type": "execute_result"
    }
   ],
   "source": [
    "parents_apart = dropout_df[dropout_df['Parental_Status'] == 'T']\n",
    "total_parents_apart = len(parents_apart)\n",
    "total_parents_apart"
   ]
  },
  {
   "cell_type": "code",
   "execution_count": 33,
   "metadata": {},
   "outputs": [
    {
     "data": {
      "text/plain": [
       "88"
      ]
     },
     "execution_count": 33,
     "metadata": {},
     "output_type": "execute_result"
    }
   ],
   "source": [
    "parents_apart_dropouts = dropout_df[(dropout_df['Parental_Status'] == 'T') & (dropout_df['Dropped_Out'] == True)]\n",
    "parents_apart_dropouts_total= len(parents_apart_dropouts)\n",
    "parents_apart_dropouts_total"
   ]
  },
  {
   "cell_type": "code",
   "execution_count": 34,
   "metadata": {},
   "outputs": [
    {
     "data": {
      "image/png": "[encoded data removed]",
      "text/plain": [
       "<Figure size 640x480 with 1 Axes>"
      ]
     },
     "metadata": {},
     "output_type": "display_data"
    }
   ],
   "source": [
    "#Parents apart\n",
    "apart_counts = dropout_df.Parental_Status.value_counts()\n",
    "plt.pie(apart_counts.values, labels = apart_counts.index.values, autopct = \"%1.1f%%\" )\n",
    "plt.ylabel(\"Count\")\n",
    "plt.show()"
   ]
  },
  {
   "cell_type": "code",
   "execution_count": 35,
   "metadata": {},
   "outputs": [
    {
     "data": {
      "image/png": "[encoded data removed]",
      "text/plain": [
       "<Figure size 640x480 with 1 Axes>"
      ]
     },
     "metadata": {},
     "output_type": "display_data"
    }
   ],
   "source": [
    "dropout_counts = dropout_df.Dropped_Out.value_counts()\n",
    "plt.pie(dropout_counts.values, labels = dropout_counts.index.values, autopct = \"%1.1f%%\" )\n",
    "plt.ylabel(\"Count\")\n",
    "plt.show()"
   ]
  },
  {
   "cell_type": "code",
   "execution_count": null,
   "metadata": {},
   "outputs": [],
   "source": []
  }
 ],
 "metadata": {
  "kernelspec": {
   "display_name": "dev",
   "language": "python",
   "name": "python3"
  },
  "language_info": {
   "codemirror_mode": {
    "name": "ipython",
    "version": 3
   },
   "file_extension": ".py",
   "mimetype": "text/x-python",
   "name": "python",
   "nbconvert_exporter": "python",
   "pygments_lexer": "ipython3",
   "version": "3.10.14"
  }
 },
 "nbformat": 4,
 "nbformat_minor": 2
}
